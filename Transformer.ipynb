{
  "nbformat": 4,
  "nbformat_minor": 0,
  "metadata": {
    "colab": {
      "provenance": []
    },
    "kernelspec": {
      "name": "python3",
      "display_name": "Python 3"
    },
    "language_info": {
      "name": "python"
    }
  },
  "cells": [
    {
      "cell_type": "markdown",
      "source": [
        "# **Transformer**\n",
        "Transformers are the building blocks of modern LLMs, enabling the prediction of words in context. Traditional language models, such as N-Grams, predict words based on frequency (for example, if a word often appears with another, it will be generated even if it makes no sense). In contrast, the Transformer model, specifically through the Attention mechanism, addresses the fact that some words are more important than others. This allows the model to better capture context and meaning.\n",
        "\n",
        "For the following demonstration, we will use the WikiText-103 dataset. You can find it here: [[Dataset]](https://https://www.kaggle.com/datasets/vadimkurochkin/wikitext-103?resource=download)"
      ],
      "metadata": {
        "id": "Gn9mTABD7aKY"
      }
    },
    {
      "cell_type": "code",
      "source": [
        "import kagglehub\n",
        "\n",
        "path = kagglehub.dataset_download(\"vadimkurochkin/wikitext-103\")\n",
        "\n",
        "print(\"Path to dataset files:\", path)"
      ],
      "metadata": {
        "colab": {
          "base_uri": "https://localhost:8080/"
        },
        "id": "AmkAxjO99Sy9",
        "outputId": "9c90002f-4cc9-4e74-cc00-c8396c9bfd2d"
      },
      "execution_count": 1,
      "outputs": [
        {
          "output_type": "stream",
          "name": "stdout",
          "text": [
            "Downloading from https://www.kaggle.com/api/v1/datasets/download/vadimkurochkin/wikitext-103?dataset_version_number=1...\n"
          ]
        },
        {
          "output_type": "stream",
          "name": "stderr",
          "text": [
            "100%|██████████| 184M/184M [00:01<00:00, 159MB/s]"
          ]
        },
        {
          "output_type": "stream",
          "name": "stdout",
          "text": [
            "Extracting files...\n"
          ]
        },
        {
          "output_type": "stream",
          "name": "stderr",
          "text": [
            "\n"
          ]
        },
        {
          "output_type": "stream",
          "name": "stdout",
          "text": [
            "Path to dataset files: /root/.cache/kagglehub/datasets/vadimkurochkin/wikitext-103/versions/1\n"
          ]
        }
      ]
    },
    {
      "cell_type": "markdown",
      "source": [
        "**Transformer Architecture**\n",
        "\n",
        "\n",
        "![1ZCFSvkKtppgew3cc7BIaug.webp](data:image/webp;base64,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)\n",
        "\n",
        "Understanding the architecture of a transformer is key in making it, based on the picture above there are several key components towards making it. such as the positional encoding mechanism, attention mechanism, neural network, and layer norm."
      ],
      "metadata": {
        "id": "hNkQRCZN_BgG"
      }
    },
    {
      "cell_type": "code",
      "source": [
        "import numpy as np\n",
        "import io\n",
        "import re\n",
        "from collections import Counter"
      ],
      "metadata": {
        "id": "48P8QtT-FZoy"
      },
      "execution_count": 2,
      "outputs": []
    },
    {
      "cell_type": "markdown",
      "source": [
        "# **Tokenizer**"
      ],
      "metadata": {
        "id": "dNz_l3NX7Nmt"
      }
    },
    {
      "cell_type": "markdown",
      "source": [],
      "metadata": {
        "id": "IP8t4NgbCmW-"
      }
    },
    {
      "cell_type": "code",
      "source": [
        "with io.open(\"sample_data/wikitext-103/wiki.train.tokens\", \"r\", encoding=\"utf-8\") as f:\n",
        "    raw_text = f.read()\n",
        "\n",
        "print(\"Sample:\", raw_text[:500])"
      ],
      "metadata": {
        "id": "uxcLdaJa7NRU",
        "colab": {
          "base_uri": "https://localhost:8080/"
        },
        "outputId": "369b4c78-8389-4998-9550-d9dd6156a57d"
      },
      "execution_count": 41,
      "outputs": [
        {
          "output_type": "stream",
          "name": "stdout",
          "text": [
            "Sample:  \n",
            " = Valkyria Chronicles III = \n",
            " \n",
            " Senjō no Valkyria 3 : <unk> Chronicles ( Japanese : 戦場のヴァルキュリア3 , lit . Valkyria of the Battlefield 3 ) , commonly referred to as Valkyria Chronicles III outside Japan , is a tactical role @-@ playing video game developed by Sega and Media.Vision for the PlayStation Portable . Released in January 2011 in Japan , it is the third game in the Valkyria series . Employing the same fusion of tactical and real @-@ time gameplay as its predecessors , the story runs par\n"
          ]
        }
      ]
    },
    {
      "cell_type": "code",
      "source": [
        "def clean_text(text):\n",
        "    text = text.lower()\n",
        "    text = re.sub(r\"=+.*=+\", \" \", text)\n",
        "    text = re.sub(r\"[^a-z0-9.,!?;:'\\\"()\\-\\n ]\", \" \", text)\n",
        "    text = re.sub(r\"\\s+\", \" \", text)\n",
        "    return text.strip()\n",
        "\n",
        "cleaned_text = clean_text(raw_text)\n",
        "print(cleaned_text[:500])"
      ],
      "metadata": {
        "colab": {
          "base_uri": "https://localhost:8080/"
        },
        "id": "T8NnPxf1Aj84",
        "outputId": "52b33f43-68c3-438d-85d4-bb4b7a86ace8"
      },
      "execution_count": 42,
      "outputs": [
        {
          "output_type": "stream",
          "name": "stdout",
          "text": [
            "senj no valkyria 3 : unk chronicles ( japanese : 3 , lit . valkyria of the battlefield 3 ) , commonly referred to as valkyria chronicles iii outside japan , is a tactical role - playing video game developed by sega and media.vision for the playstation portable . released in january 2011 in japan , it is the third game in the valkyria series . employing the same fusion of tactical and real - time gameplay as its predecessors , the story runs parallel to the first game and follows the \" nameless \"\n"
          ]
        }
      ]
    },
    {
      "cell_type": "markdown",
      "metadata": {
        "id": "556b7b75"
      },
      "source": [
        "After cleaning the text, we can tokenize it. **Tokenization** is the process of breaking down text into smaller units called tokens. In this case, the `simple_tokenize` function is used to split the text into a list of words based on whitespace."
      ]
    },
    {
      "cell_type": "code",
      "source": [
        "def simple_tokenize(text):\n",
        "    return text.split()\n",
        "\n",
        "tokens = simple_tokenize(cleaned_text)\n",
        "print(\"Number of tokens:\", len(tokens))\n",
        "print(\"First 20 tokens:\", tokens[:20])"
      ],
      "metadata": {
        "colab": {
          "base_uri": "https://localhost:8080/"
        },
        "id": "EDtJPgdQA2oy",
        "outputId": "5baad7e6-0048-4219-e756-b9b622e7df14"
      },
      "execution_count": 5,
      "outputs": [
        {
          "output_type": "stream",
          "name": "stdout",
          "text": [
            "Number of tokens: 575094\n",
            "First 20 tokens: ['senj', 'no', 'valkyria', '3', ':', 'unk', 'chronicles', '(', 'japanese', ':', '3', ',', 'lit', '.', 'valkyria', 'of', 'the', 'battlefield', '3', ')']\n"
          ]
        }
      ]
    },
    {
      "cell_type": "markdown",
      "source": [
        "After tokenizing the data, we can convert words into integer IDs. For example, special tokens such as PAD (padding), UNK (unknown), START, and END are assigned reserved IDs at the beginning of the vocabulary. The remaining top 50,000 most frequent words are each assigned a unique integer ID, with smaller numbers representing higher frequency (e.g., ID 4 might correspond to the most frequent word). Any words that fall outside of the top 50,000 are mapped to the UNK token."
      ],
      "metadata": {
        "id": "16GtnOoHBwo5"
      }
    },
    {
      "cell_type": "code",
      "source": [
        "PAD, UNK, START, END = 0, 1, 2, 3\n",
        "\n",
        "counter = Counter(tokens)\n",
        "max_vocab = 50000\n",
        "most_common = counter.most_common(max_vocab - 4)\n",
        "\n",
        "vocab = {\"<pad>\":PAD, \"<unk>\":UNK, \"<s>\":START, \"</s>\":END}\n",
        "for i, (word, _) in enumerate(most_common, start=4):\n",
        "    vocab[word] = i\n",
        "\n",
        "inv_vocab = {i: w for w, i in vocab.items()}\n",
        "\n",
        "print(\"Vocab size:\", len(vocab))\n",
        "print(\"Sample vocab:\", list(vocab.items())[:20])"
      ],
      "metadata": {
        "colab": {
          "base_uri": "https://localhost:8080/"
        },
        "id": "_J-D4Y3yA_-l",
        "outputId": "5c86599e-d2e4-4275-ec04-f88a8852db98"
      },
      "execution_count": 6,
      "outputs": [
        {
          "output_type": "stream",
          "name": "stdout",
          "text": [
            "Vocab size: 30659\n",
            "Sample vocab: [('<pad>', 0), ('<unk>', 1), ('<s>', 2), ('</s>', 3), ('the', 4), (',', 5), ('.', 6), ('of', 7), ('and', 8), ('in', 9), ('to', 10), ('a', 11), ('\"', 12), ('was', 13), ('-', 14), ('as', 15), ('on', 16), ('that', 17), ('for', 18), ('with', 19)]\n"
          ]
        }
      ]
    },
    {
      "cell_type": "markdown",
      "source": [
        "After making the id encoder for the data we can actually encode based on the input available"
      ],
      "metadata": {
        "id": "MKchF36yDLNf"
      }
    },
    {
      "cell_type": "code",
      "source": [
        "def encode(tokens, vocab):\n",
        "    # If a single sentence (list of strings)\n",
        "    if isinstance(tokens[0], str):\n",
        "        return [vocab.get(t, vocab[\"<unk>\"]) for t in tokens]\n",
        "    # If a batch of sentences (list of list)\n",
        "    elif isinstance(tokens[0], list):\n",
        "        return [[vocab.get(t, vocab[\"<unk>\"]) for t in sentence] for sentence in tokens]\n",
        "    else:\n",
        "        raise ValueError(\"Input must be a list of strings or a list of list of strings\")\n",
        "\n",
        "encoded_tokens = encode(tokens, vocab)\n",
        "print(\"Encoded sample:\", encoded_tokens[:50])\n"
      ],
      "metadata": {
        "colab": {
          "base_uri": "https://localhost:8080/"
        },
        "id": "jH2uKF9rBFtV",
        "outputId": "e0ec4cb3-2c85-4aac-fa68-d8236ec5919f"
      },
      "execution_count": 43,
      "outputs": [
        {
          "output_type": "stream",
          "name": "stdout",
          "text": [
            "Encoded sample: [8295, 113, 1220, 97, 48, 25, 1546, 23, 1193, 48, 97, 5, 4304, 6, 1220, 7, 4, 4576, 97, 24, 5, 1840, 1469, 10, 15, 1220, 1546, 896, 556, 928, 5, 22, 11, 4083, 281, 14, 543, 291, 120, 485, 21, 6697, 8, 11223, 18, 4, 4899, 9497, 6, 167]\n"
          ]
        }
      ]
    },
    {
      "cell_type": "markdown",
      "source": [
        "# **Word Embedding**"
      ],
      "metadata": {
        "id": "iN-VudIJ7NBv"
      }
    },
    {
      "cell_type": "markdown",
      "source": [
        "After encoding the tokens, the next step is word embedding. Word embeddings transform the integer IDs (derived from tokens) into dense vectors. Each vector represents a word in a continuous space where different dimensions can capture semantic or syntactic attributes. For example, certain dimensions may correspond to features like sentiment, tone, or relationships between words. This allows the model to understand words beyond their discrete IDs and capture richer context. Fortunately, we don't have to train our embedding matrix, but if we do it'll be a lot harder to figure it out on how it works."
      ],
      "metadata": {
        "id": "CQvP2bvxEZJe"
      }
    },
    {
      "cell_type": "code",
      "source": [
        "vocab_size = len(vocab)\n",
        "d_model = 128\n",
        "rng = np.random.default_rng(42)\n",
        "\n",
        "embedding_matrix = rng.normal(0, 0.02, size=(vocab_size, d_model))"
      ],
      "metadata": {
        "id": "2nja_8mTFOv7"
      },
      "execution_count": 8,
      "outputs": []
    },
    {
      "cell_type": "markdown",
      "source": [
        "Now, we'll make an example"
      ],
      "metadata": {
        "id": "V6B816uqH4Dx"
      }
    },
    {
      "cell_type": "code",
      "source": [
        "sentence_ids = np.array([2, 4, 5, 6, 7, 3, 0, 0])\n",
        "\n",
        "embedded = embedding_matrix[sentence_ids]\n",
        "print(embedded.shape)"
      ],
      "metadata": {
        "colab": {
          "base_uri": "https://localhost:8080/"
        },
        "id": "9H-kSmk6H6zo",
        "outputId": "d2b4c4b1-5ec3-46f9-c85b-0f88da44f3c5"
      },
      "execution_count": 9,
      "outputs": [
        {
          "output_type": "stream",
          "name": "stdout",
          "text": [
            "(8, 128)\n"
          ]
        }
      ]
    },
    {
      "cell_type": "code",
      "source": [
        "print(embedded)"
      ],
      "metadata": {
        "colab": {
          "base_uri": "https://localhost:8080/"
        },
        "id": "l09yJ8iNH_BO",
        "outputId": "e8d24b59-ab4d-4aa9-cd13-f95fe43a9306"
      },
      "execution_count": 10,
      "outputs": [
        {
          "output_type": "stream",
          "name": "stdout",
          "text": [
            "[[ 0.00869532 -0.00752312 -0.00267646 ...  0.02619101 -0.03204519\n",
            "  -0.02503294]\n",
            " [ 0.00198955 -0.00172201  0.01581612 ... -0.02226776  0.01159122\n",
            "   0.01049015]\n",
            " [-0.02988811  0.01398393  0.0410537  ... -0.03567222  0.00167242\n",
            "  -0.01112384]\n",
            " ...\n",
            " [-0.03202556 -0.01588273  0.00879273 ...  0.0093016  -0.03121917\n",
            "  -0.00594647]\n",
            " [ 0.00609434 -0.02079968  0.01500902 ...  0.00713742  0.02926606\n",
            "  -0.02377526]\n",
            " [ 0.00609434 -0.02079968  0.01500902 ...  0.00713742  0.02926606\n",
            "  -0.02377526]]\n"
          ]
        }
      ]
    },
    {
      "cell_type": "code",
      "source": [
        "batch_ids = np.array([\n",
        "    [2, 4, 5, 6, 7, 3, 0, 0, 12],\n",
        "])\n",
        "\n",
        "batch_embedded = embedding_matrix[batch_ids]\n",
        "print(batch_embedded.shape)  # (1, 8, 128)"
      ],
      "metadata": {
        "colab": {
          "base_uri": "https://localhost:8080/"
        },
        "id": "37bm2TmyNaHJ",
        "outputId": "9d7769a2-e386-4fdb-fb8c-c5480642f588"
      },
      "execution_count": 11,
      "outputs": [
        {
          "output_type": "stream",
          "name": "stdout",
          "text": [
            "(1, 9, 128)\n"
          ]
        }
      ]
    },
    {
      "cell_type": "markdown",
      "source": [
        "# **Positional Encoding**"
      ],
      "metadata": {
        "id": "CrbSyHyVIpWs"
      }
    },
    {
      "cell_type": "markdown",
      "source": [
        "Now, after word embedding we still need to encode the position of the words, with embedding only it doesn't learn the position of the words, let's make an example\n",
        "\n",
        "\n",
        "```\n",
        "Man bites Dog ≠ Dog bites man\n",
        "```\n",
        "\n",
        "Position matters in language models like this, often AI models encode their position by 2 ways (Sinuosidal, or Learned). For this project we are going to use sinuosidal since it offers generalization for longer sequences, now for learned it doesn't offer us generalization since it's usually limited by the maximum number of token that is used to train.\n",
        "\n",
        "For the formula itself we could take a look below\n",
        "\n",
        "$$\n",
        "PE_{(pos, 2i)} = \\sin\\!\\left(\\frac{pos}{10000^{\\tfrac{2i}{d_{\\text{model}}}}}\\right)\n",
        "$$\n",
        "\n",
        "$$\n",
        "PE_{(pos, 2i+1)} = \\cos\\!\\left(\\frac{pos}{10000^{\\tfrac{2i}{d_{\\text{model}}}}}\\right)\n",
        "$$\n",
        "\n",
        "\n",
        "\n",
        "*   $PE$ = Positional Encoding\n",
        "*   $i$ = index\n",
        "*   $d_{model}$ = dimensionality (128,256,512)\n",
        "\n",
        "\n",
        "\n"
      ],
      "metadata": {
        "id": "0qUumO5DIs9H"
      }
    },
    {
      "cell_type": "code",
      "source": [
        "class PositionalEncoding:\n",
        "    def __init__(self, max_len: int, d_model: int):\n",
        "        self.d_model = d_model\n",
        "        self.max_len = max_len\n",
        "        self.pe = self._create_positional_encoding(max_len, d_model)\n",
        "\n",
        "    def _create_positional_encoding(self, max_len, d_model):\n",
        "        pos = np.arange(max_len)[:, None]\n",
        "        i = np.arange(d_model)[None, :]\n",
        "        angle_rates = 1 / np.power(10000, (2 * (i // 2)) / d_model)\n",
        "        angles = pos * angle_rates\n",
        "\n",
        "        pe = np.zeros((max_len, d_model))\n",
        "        pe[:, 0::2] = np.sin(angles[:, 0::2])\n",
        "        pe[:, 1::2] = np.cos(angles[:, 1::2])\n",
        "        return pe\n",
        "\n",
        "    def __call__(self, x):\n",
        "        seq_len = x.shape[1]\n",
        "        # Auto-expand if sequence is longer than precomputed PE\n",
        "        if seq_len > self.max_len:\n",
        "            self.pe = self._create_positional_encoding(seq_len, self.d_model)\n",
        "            self.max_len = seq_len\n",
        "        return x + self.pe[:seq_len]\n",
        "\n",
        "\n",
        "positional_encode = PositionalEncoding(max_len=8, d_model=128)\n",
        "positioned_word = positional_encode(batch_embedded)"
      ],
      "metadata": {
        "id": "6u2UaQzsNRSt"
      },
      "execution_count": 13,
      "outputs": []
    },
    {
      "cell_type": "code",
      "source": [
        "print(positioned_word)\n",
        "print(positioned_word.shape)"
      ],
      "metadata": {
        "colab": {
          "base_uri": "https://localhost:8080/"
        },
        "id": "7Ys2Ag8cNdEg",
        "outputId": "ebcef788-82b0-497d-dc41-e0a213b6cf12"
      },
      "execution_count": 14,
      "outputs": [
        {
          "output_type": "stream",
          "name": "stdout",
          "text": [
            "[[[ 0.00869532  0.99247688 -0.00267646 ...  1.02619101 -0.03204519\n",
            "    0.97496706]\n",
            "  [ 0.84346053  0.53858029  0.77753653 ...  0.97773223  0.0117067\n",
            "    1.01049014]\n",
            "  [ 0.87940931 -0.4021629   1.02809995 ...  0.96432774  0.00190338\n",
            "    0.98887613]\n",
            "  ...\n",
            "  [-0.27332116  0.9393706  -0.87041214 ...  1.0071371   0.02995893\n",
            "    0.9762245 ]\n",
            "  [ 0.66308094  0.73310257 -0.20462083 ...  1.00713699  0.03007441\n",
            "    0.97622441]\n",
            "  [ 1.00434271 -0.17924699  0.58221693 ...  0.97799672 -0.00112942\n",
            "    1.03596533]]]\n",
            "(1, 9, 128)\n"
          ]
        }
      ]
    },
    {
      "cell_type": "markdown",
      "source": [
        "# **Self Attention**"
      ],
      "metadata": {
        "id": "eSjQnT8tNqyS"
      }
    },
    {
      "cell_type": "markdown",
      "source": [
        "Self attention is a mechanic in LLM, to identify the context itself and who and how does this word relate towards each other. By its name we can conclude self attention means how much attention we give towards other tokens. Let's take a look at an example\n",
        "\n",
        "\n",
        "\n",
        "```\n",
        "The dog ate a lot of junk food, it became sick afterwads.\n",
        "```\n",
        "\n",
        "With self attention, we can see that \"it\" actually refers to the dog that ate a lot of junk food. Without this mechanism, it's hard to understand context and how important some word is, compared to another.\n",
        "\n",
        "Generally, when making self attention each token gets divided into 3 vectors\n",
        "\n",
        "$$\n",
        "Q=XW^{Q}, K = XW^{K}, V=XW^{V}\n",
        "$$\n",
        "Where,\n",
        "\n",
        "$Q$ = Query\n",
        "\n",
        "$K$ = Key\n",
        "\n",
        "$V$ = Value\n",
        "\n",
        "Now each of this vectors mean different things, Query means what are we looking for, Key what it contains, Value what information it holds.\n"
      ],
      "metadata": {
        "id": "dY1rVSAvQHEG"
      }
    },
    {
      "cell_type": "code",
      "source": [
        "def softmax(x, axis=-1):\n",
        "  x = x - np.max(x, axis=axis, keepdims=True)\n",
        "  return np.exp(x) / np.sum(np.exp(x), axis=axis, keepdims=True)\n",
        "\n",
        "def self_attention(X, d_models=128, d_k=16, seed=42):\n",
        "  rng = np.random.default_rng(seed)\n",
        "\n",
        "  W_Q = rng.normal(0, 0.02, (d_models, d_k))\n",
        "  W_K = rng.normal(0, 0.02, (d_models, d_k))\n",
        "  W_V = rng.normal(0, 0.02, (d_models, d_k))\n",
        "\n",
        "  Q = X @ W_Q\n",
        "  K = X @ W_K\n",
        "  V = X @ W_V\n",
        "\n",
        "  scores = np.matmul(Q, K.transpose(0, 2, 1)) / np.sqrt(d_k)\n",
        "  attention_weights = softmax(scores)\n",
        "  output = attention_weights @ V\n",
        "  return output, attention_weights\n"
      ],
      "metadata": {
        "id": "FyuvrFM9Nuy5"
      },
      "execution_count": 15,
      "outputs": []
    },
    {
      "cell_type": "code",
      "source": [
        "out, attn = self_attention(positioned_word, d_models=128, d_k=8)\n",
        "\n",
        "print(\"Output shape:\", out.shape)\n",
        "print(\"Attention matrix:\\n\", attn)"
      ],
      "metadata": {
        "colab": {
          "base_uri": "https://localhost:8080/"
        },
        "id": "qif7y6LCv5vK",
        "outputId": "bae922a7-179c-4246-d9ef-5146788e9a1c"
      },
      "execution_count": 16,
      "outputs": [
        {
          "output_type": "stream",
          "name": "stdout",
          "text": [
            "Output shape: (1, 9, 8)\n",
            "Attention matrix:\n",
            " [[[0.11044727 0.1102536  0.11035619 0.11067361 0.11101604 0.11134525\n",
            "   0.11176466 0.11203992 0.11210346]\n",
            "  [0.11022922 0.10985882 0.11006956 0.11068152 0.1112764  0.11166625\n",
            "   0.11196442 0.11211003 0.11214378]\n",
            "  [0.11013309 0.10976185 0.11002187 0.11074722 0.11141234 0.11184364\n",
            "   0.11204183 0.11205836 0.11197982]\n",
            "  [0.11010422 0.10991497 0.11019592 0.11083077 0.11139352 0.11183034\n",
            "   0.11199856 0.11196677 0.11176493]\n",
            "  [0.1103419  0.11040102 0.11062202 0.11100068 0.11128525 0.11161979\n",
            "   0.11175011 0.11166159 0.11131765]\n",
            "  [0.11054614 0.11078718 0.11099733 0.11120951 0.11128469 0.11147927\n",
            "   0.11152557 0.11132736 0.11084294]\n",
            "  [0.11067142 0.11090941 0.11113406 0.11137004 0.11141177 0.11150096\n",
            "   0.11142871 0.11107899 0.11049464]\n",
            "  [0.11063485 0.11078141 0.11103989 0.1114096  0.11156331 0.11165481\n",
            "   0.11150567 0.11103419 0.11037627]\n",
            "  [0.11052687 0.11057896 0.11083433 0.11131523 0.11160756 0.11180113\n",
            "   0.11166911 0.11117471 0.11049209]]]\n"
          ]
        }
      ]
    },
    {
      "cell_type": "markdown",
      "source": [
        "# **Causal Mask**"
      ],
      "metadata": {
        "id": "RR2dWRsIQOoC"
      }
    },
    {
      "cell_type": "markdown",
      "source": [
        "When we're making a decoder we need to make sure that each token can't see the future, this is sometimes called data leakage. Let's take a look at an example\n",
        "\n",
        "Suppose we have a sentence with 3 words such as\n",
        "\n",
        "\n",
        "\n",
        "```\n",
        "I ate breakfast\n",
        "```\n",
        "\n",
        "When the text is tokenized and passed into the attention mechanism, it forms a matrix where each element $t_{ij}$ represents the attention score between token $i$ and token $j$. In this matrix if $i$ > $j$, it means the model is attending to future tokens—essentially “peeking” at the next words, which is something we usually prevent in causal (autoregressive) models.\n",
        "\n",
        "$$\n",
        "\\begin{bmatrix}\n",
        "t_{11} & t_{12} & t_{13}  \\\\\n",
        "t_{21} & t_{22} & t_{23} \\\\\n",
        "t_{31} & t_{32} & t_{33}\n",
        "\\end{bmatrix}\n",
        "$$\n",
        "\n",
        "Now one way to prevent this is by blocking the attention for token in which $i$ > $j$, such that the current token cannot see the future attention score like below\n",
        "\n",
        "$$\n",
        "\\begin{bmatrix}\n",
        "t_{11} & -\\infty & -\\infty \\\\\n",
        "t_{21} & t_{22} & -\\infty \\\\\n",
        "t_{31} & t_{32} & t_{33}\n",
        "\\end{bmatrix}\n",
        "$$"
      ],
      "metadata": {
        "id": "5p4A2LxhTW5K"
      }
    },
    {
      "cell_type": "code",
      "source": [
        "def make_causal_mask(T):\n",
        "    mask = np.triu(np.ones((T, T)), k=1) * -1e9\n",
        "    return mask[None, None, :, :]"
      ],
      "metadata": {
        "id": "Jmj2PPp2QTCk"
      },
      "execution_count": 25,
      "outputs": []
    },
    {
      "cell_type": "markdown",
      "source": [
        "# **Multi Head Attention**\n",
        "\n"
      ],
      "metadata": {
        "id": "r1tjnQQ_2Lry"
      }
    },
    {
      "cell_type": "markdown",
      "source": [
        "Now that we’ve implemented self-attention, the next step is multi-head attention. With self-attention, we can capture the relationships between words in a sequence (for example, identifying that one word is the subject of another). Multi-head attention extends this idea by using several attention heads in parallel. Each head can focus on different aspects of the context. For instance, one head might learn to track which word is the subject, while another could capture emotional connotations, and yet another could handle positional or syntactic relationships."
      ],
      "metadata": {
        "id": "xzVFrxY12VtE"
      }
    },
    {
      "cell_type": "code",
      "source": [
        "def softmax(x, axis=-1):\n",
        "    x = x - np.max(x, axis=axis, keepdims=True)  # stability\n",
        "    e = np.exp(x)\n",
        "    return e / np.sum(e, axis=axis, keepdims=True)\n",
        "\n",
        "def scaled_dot_product_attention(Q, K, V, mask=None):\n",
        "\n",
        "    d_k = Q.shape[-1]\n",
        "    scores = np.matmul(Q, K.transpose(0, 1, 3, 2)) / np.sqrt(d_k)  # (B,H,T,T)\n",
        "    if mask is not None:\n",
        "        scores = scores + mask  # mask should be 0 for keep, -1e9 for mask\n",
        "    attn = softmax(scores, axis=-1)\n",
        "    out = np.matmul(attn, V)  # (B,H,T,Dh)\n",
        "    return out, attn\n",
        "\n",
        "def make_causal_mask(T):\n",
        "    mask = np.triu(np.ones((T, T)), k=1) * -1e9\n",
        "    mask = mask[None, None, :, :]  # (1,1,T,T)\n",
        "    return mask\n",
        "\n"
      ],
      "metadata": {
        "id": "Hexp0qmLq-sb"
      },
      "execution_count": 17,
      "outputs": []
    },
    {
      "cell_type": "code",
      "source": [
        "class MultiHeadAttention:\n",
        "    def __init__(self, d_model=128, num_heads=8, seed=42):\n",
        "        assert d_model % num_heads == 0, \"d_model must be divisible by num_heads\"\n",
        "        self.d_model = d_model\n",
        "        self.num_heads = num_heads\n",
        "        self.d_head = d_model // num_heads\n",
        "        rng = np.random.default_rng(seed)\n",
        "\n",
        "        # Projection matrices (learnable params)\n",
        "        self.W_Q = rng.normal(0, 0.02, (d_model, d_model)).astype(np.float32)\n",
        "        self.W_K = rng.normal(0, 0.02, (d_model, d_model)).astype(np.float32)\n",
        "        self.W_V = rng.normal(0, 0.02, (d_model, d_model)).astype(np.float32)\n",
        "        self.W_O = rng.normal(0, 0.02, (d_model, d_model)).astype(np.float32)\n",
        "\n",
        "    def _split_heads(self, x, B, T):\n",
        "        return x.reshape(B, T, self.num_heads, self.d_head).transpose(0, 2, 1, 3)\n",
        "\n",
        "    def _combine_heads(self, x, B, T):\n",
        "        return x.transpose(0, 2, 1, 3).reshape(B, T, self.d_model)\n",
        "\n",
        "    def __call__(self, X, mask=None):\n",
        "        B, T, D = X.shape\n",
        "\n",
        "        # Linear projections\n",
        "        Q = X @ self.W_Q\n",
        "        K = X @ self.W_K\n",
        "        V = X @ self.W_V\n",
        "\n",
        "        # Split into heads\n",
        "        Qh = self._split_heads(Q, B, T)  # (B,H,T,Dh)\n",
        "        Kh = self._split_heads(K, B, T)\n",
        "        Vh = self._split_heads(V, B, T)\n",
        "\n",
        "        # Scaled dot-product attention\n",
        "        out_h, attn = scaled_dot_product_attention(Qh, Kh, Vh, mask)\n",
        "\n",
        "        # Combine heads + final linear projection\n",
        "        out = self._combine_heads(out_h, B, T)  # (B,T,D)\n",
        "        out = out @ self.W_O                   # (B,T,D)\n",
        "\n",
        "        return out, attn\n"
      ],
      "metadata": {
        "id": "PCg5Ktc7a1FD"
      },
      "execution_count": 18,
      "outputs": []
    },
    {
      "cell_type": "code",
      "source": [
        "mha = MultiHeadAttention(d_model=128, num_heads=8)\n",
        "out_multihead, attention = mha(positioned_word, mask)\n",
        "print(out_multihead.shape)\n",
        "print(attention.shape)"
      ],
      "metadata": {
        "colab": {
          "base_uri": "https://localhost:8080/"
        },
        "id": "jT1AWw56p3l7",
        "outputId": "f6d815a1-6148-4fca-9499-d19a0986e7c3"
      },
      "execution_count": 19,
      "outputs": [
        {
          "output_type": "stream",
          "name": "stdout",
          "text": [
            "(1, 9, 128)\n",
            "(1, 8, 9, 9)\n"
          ]
        }
      ]
    },
    {
      "cell_type": "markdown",
      "source": [
        "# **Feed Forward Network**"
      ],
      "metadata": {
        "id": "Qmh9B-DhwnSd"
      }
    },
    {
      "cell_type": "markdown",
      "source": [
        "In a language model, attention alone isn’t enough—we also need a neural network. Attention helps the model understand the context and relationships between words. However, the neural network extends this by allowing the model to generalize and derive higher-level meaning from that context.\n",
        "\n",
        "Consider the example:\n",
        "\n",
        "\n",
        "\n",
        "```\n",
        "That person just won a video game tournament, so he has a lot of money.\n",
        "```\n",
        "\n",
        "Through attention, the model understands that “he” refers to “that person.” But this is only a surface-level understanding. The neural network builds on this by learning deeper connections—such as associating “won a tournament” with “a lot of money.”\n",
        "\n",
        "In essence, attention captures relationships, while the neural network generalizes those relationships to form a richer understanding of the entire sentence."
      ],
      "metadata": {
        "id": "HKTYU1VPYADp"
      }
    },
    {
      "cell_type": "code",
      "source": [
        "class PositionwiseFeedForward:\n",
        "    def __init__(self, d_model=128, d_ff=512, seed=42, activation=\"relu\"):\n",
        "        rng = np.random.default_rng(seed)\n",
        "\n",
        "        self.W1 = rng.normal(0, 0.02, (d_model, d_ff)).astype(np.float32)\n",
        "        self.b1 = np.zeros((d_ff,), dtype=np.float32)\n",
        "\n",
        "        self.W2 = rng.normal(0, 0.02, (d_ff, d_model)).astype(np.float32)\n",
        "        self.b2 = np.zeros((d_model,), dtype=np.float32)\n",
        "        self.activation = activation\n",
        "\n",
        "    def __call__(self, X):\n",
        "\n",
        "        hidden = X @ self.W1 + self.b1\n",
        "        if self.activation == \"relu\":\n",
        "            hidden = np.maximum(0, hidden)\n",
        "\n",
        "        out = hidden @ self.W2 + self.b2\n",
        "        return out\n"
      ],
      "metadata": {
        "id": "6l5zeAzzwntB"
      },
      "execution_count": 20,
      "outputs": []
    },
    {
      "cell_type": "code",
      "source": [
        "ffn = PositionwiseFeedForward(d_model=128, d_ff=512)\n",
        "out_ffn = ffn(out_multihead)\n",
        "\n",
        "print(\"Input shape:\", out_multihead.shape)   # (2, 8, 128)\n",
        "print(\"Output shape:\", out_ffn.shape) # (2, 8, 128)"
      ],
      "metadata": {
        "colab": {
          "base_uri": "https://localhost:8080/"
        },
        "id": "ikYyPMlr2hPw",
        "outputId": "379a0ed0-db32-4614-b093-81ec5993e5f5"
      },
      "execution_count": 21,
      "outputs": [
        {
          "output_type": "stream",
          "name": "stdout",
          "text": [
            "Input shape: (1, 9, 128)\n",
            "Output shape: (1, 9, 128)\n"
          ]
        }
      ]
    },
    {
      "cell_type": "markdown",
      "source": [
        "# **Layer Norm**"
      ],
      "metadata": {
        "id": "ZXXdJ7w53UVZ"
      }
    },
    {
      "cell_type": "markdown",
      "source": [
        "Another important component of a language model is Layer Normalization. In traditional neural networks, we know that deeper architectures can suffer from issues where values either explode or vanish as they propagate through layers.\n",
        "\n",
        "In the context of language models, this means that without LayerNorm, the model’s representation of knowledge can become unstable. It might:\n",
        "A. Become too dominant toward a specific pattern or concept, ignoring other relevant information, or\n",
        "B. Become too weak, causing certain learned knowledge to be effectively forgotten as its value approaches zero.\n",
        "\n",
        "In simple terms, LayerNorm acts like a self-check mechanism for the model, a way of asking\n",
        "\n",
        "*“Are you doing too much?”*\n",
        "\n",
        "It keeps the model balanced, preventing any single piece of information from overwhelming or disappearing within the network."
      ],
      "metadata": {
        "id": "siNbVppNbMBt"
      }
    },
    {
      "cell_type": "code",
      "source": [
        "class LayerNorm:\n",
        "    def __init__(self, d_model, eps=1e-6):\n",
        "        self.gamma = np.ones((d_model,), dtype=np.float32)\n",
        "        self.beta = np.zeros((d_model,), dtype=np.float32)\n",
        "        self.eps = eps\n",
        "\n",
        "    def __call__(self, X):\n",
        "        mean = np.mean(X, axis=-1, keepdims=True)\n",
        "        var = np.var(X, axis=-1, keepdims=True)\n",
        "        normed = (X - mean) / np.sqrt(var + self.eps)\n",
        "        return self.gamma * normed + self.beta\n"
      ],
      "metadata": {
        "id": "3ydRGx5E3E6w"
      },
      "execution_count": 22,
      "outputs": []
    },
    {
      "cell_type": "code",
      "source": [
        "class ResidualConnection:\n",
        "    def __init__(self, d_model):\n",
        "        self.norm = LayerNorm(d_model)\n",
        "\n",
        "    def __call__(self, X, sublayer_out):\n",
        "        return self.norm(X + sublayer_out)"
      ],
      "metadata": {
        "id": "FSTRcTd73XKz"
      },
      "execution_count": 23,
      "outputs": []
    },
    {
      "cell_type": "code",
      "source": [
        "residual = ResidualConnection(d_model=128)\n",
        "out_residual = residual(out_multihead, out_ffn)\n",
        "\n",
        "print(\"Input shape:\", out_multihead.shape)\n",
        "print(\"Residual+Norm output shape:\", out.shape)"
      ],
      "metadata": {
        "colab": {
          "base_uri": "https://localhost:8080/"
        },
        "id": "ssAvOu-L3ZW2",
        "outputId": "53ffc912-903a-4e99-b0b7-99aaf5e1f259"
      },
      "execution_count": 24,
      "outputs": [
        {
          "output_type": "stream",
          "name": "stdout",
          "text": [
            "Input shape: (1, 9, 128)\n",
            "Residual+Norm output shape: (1, 9, 8)\n"
          ]
        }
      ]
    },
    {
      "cell_type": "markdown",
      "source": [
        "# **Decoder Block**"
      ],
      "metadata": {
        "id": "wFyDn8st30_c"
      }
    },
    {
      "cell_type": "markdown",
      "source": [
        "When building a Transformer, we combine several components into what’s called a decoder block. This block brings together all the elements we’ve discussed self-attention, feed-forward layers, and layer normalization. These components are arranged and stacked in the following architecture:\n",
        "\n",
        "\n",
        "![Untitled Diagram-Page-10.drawio (3).png](data:image/png;base64,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)"
      ],
      "metadata": {
        "id": "62m9a-fGdKV5"
      }
    },
    {
      "cell_type": "code",
      "source": [
        "class DecoderBlock:\n",
        "    def __init__(self, d_model=128, num_heads=8, d_ff=512, seed=42, cross_attention=false):\n",
        "\n",
        "        self.self_attn = MultiHeadAttention(d_model, num_heads, seed)\n",
        "        self.cross_attn = MultiHeadAttention(d_model, num_heads, seed + 1) if cross_attention else None\n",
        "        self.ffn = PositionwiseFeedForward(d_model, d_ff, seed + 2)\n",
        "\n",
        "        self.res1 = ResidualConnection(d_model)\n",
        "        self.res2 = ResidualConnection(d_model) if cross_attention else None\n",
        "        self.res3 = ResidualConnection(d_model)\n",
        "\n",
        "    def __call__(self, x, enc_output=None, self_mask=None, enc_dec_mask=None):\n",
        "\n",
        "        self_attn_out, _ = self.self_attn(x, mask=self_mask)\n",
        "        x = self.res1(x, self_attn_out)\n",
        "\n",
        "        if self.cross_attn is not None and enc_output is not None:\n",
        "            Q = x\n",
        "            K = enc_output\n",
        "            V = enc_output\n",
        "\n",
        "            B, T, D = Q.shape\n",
        "            _, S, _ = K.shape\n",
        "\n",
        "            Q_proj = Q @ self.cross_attn.W_Q\n",
        "            K_proj = K @ self.cross_attn.W_K\n",
        "            V_proj = V @ self.cross_attn.W_V\n",
        "\n",
        "            Qh = self.cross_attn._split_heads(Q_proj, B, T)\n",
        "            Kh = self.cross_attn._split_heads(K_proj, B, S)\n",
        "            Vh = self.cross_attn._split_heads(V_proj, B, S)\n",
        "\n",
        "            cross_out, _ = scaled_dot_product_attention(Qh, Kh, Vh, mask=enc_dec_mask)\n",
        "\n",
        "            cross_out = self.cross_attn._combine_heads(cross_out, B, T)\n",
        "            cross_out = cross_out @ self.cross_attn.W_O\n",
        "\n",
        "            x = self.res2(x, cross_out)\n",
        "\n",
        "        ffn_out = self.ffn(x)\n",
        "        x = self.res3(x, ffn_out)\n",
        "\n",
        "        return x\n"
      ],
      "metadata": {
        "id": "qptcSgl630f0"
      },
      "execution_count": 26,
      "outputs": []
    },
    {
      "cell_type": "markdown",
      "source": [
        "# **Transformer Model**"
      ],
      "metadata": {
        "id": "ZovPVadbc17B"
      }
    },
    {
      "cell_type": "markdown",
      "source": [
        "Now that we have built and understood each component, we can see how they work together to form the full Transformer architecture. The complete model can be represented as shown in the picture below, where several decoder blocks are stacked one after another.\n",
        "\n",
        "This structure shows how data flows through the model, starting from token inputs, passing through multiple layers of self-attention, feed-forward networks, and layer normalization, before finally reaching the output layer. Each decoder block refines the representation further, allowing the model to capture deeper context and more complex relationships between words.\n",
        "\n",
        "Together, these stacked decoder blocks form the foundation of the Transformer, enabling it to understand context, reason about meaning, and generate coherent sentences.\n",
        "\n",
        "![Transformer.png](data:image/png;base64,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)"
      ],
      "metadata": {
        "id": "WViT_6emgopi"
      }
    },
    {
      "cell_type": "code",
      "source": [
        "class TransformerDecoder:\n",
        "    def __init__(self, vocab_size, d_model=128, num_heads=8, d_ff=512, num_layers=2, max_len=100, seed=42):\n",
        "        self.vocab_size = vocab_size\n",
        "        self.d_model = d_model\n",
        "        self.pos_encoding = PositionalEncoding(max_len=max_len, d_model=d_model)\n",
        "        self.layers = [DecoderBlock(d_model, num_heads, d_ff, seed + i) for i in range(num_layers)]\n",
        "\n",
        "        rng = np.random.default_rng(seed)\n",
        "        self.W_out = rng.normal(0, 0.02, (d_model, vocab_size)).astype(np.float32)\n",
        "        self.b_out = np.zeros((vocab_size,), dtype=np.float32)\n",
        "\n",
        "    def __call__(self, x, self_mask=None):\n",
        "        x = self.pos_encoding(x)\n",
        "\n",
        "        for layer in self.layers:\n",
        "            x = layer(x, self_mask=self_mask)\n",
        "\n",
        "        logits = x @ self.W_out + self.b_out  # (B, T, vocab_size)\n",
        "\n",
        "        last_token_logits = logits[:, -1, :]  # (B, vocab_size)\n",
        "        probs = np.exp(last_token_logits - np.max(last_token_logits, axis=-1, keepdims=True))\n",
        "        probs = probs / np.sum(probs, axis=-1, keepdims=True)\n",
        "\n",
        "        return logits, probs\n"
      ],
      "metadata": {
        "id": "nKQ1VUljRHxU"
      },
      "execution_count": 44,
      "outputs": []
    },
    {
      "cell_type": "code",
      "source": [
        "input_tokens = [['the', 'art', 'of', 'war']]\n",
        "encoded_tokens = encode(input_tokens, vocab)\n",
        "\n",
        "rng = np.random.default_rng(42)\n",
        "embedded = embedding_matrix[encoded_tokens]\n",
        "\n",
        "print(embedded.shape)"
      ],
      "metadata": {
        "colab": {
          "base_uri": "https://localhost:8080/"
        },
        "id": "OpkRPMDahMgn",
        "outputId": "314d9907-f12a-43ae-917f-b18f956f5d52"
      },
      "execution_count": 51,
      "outputs": [
        {
          "output_type": "stream",
          "name": "stdout",
          "text": [
            "(1, 4, 128)\n"
          ]
        }
      ]
    },
    {
      "cell_type": "code",
      "source": [
        "B, T, D = embedded.shape\n",
        "\n",
        "decoder = TransformerDecoder(vocab_size=vocab_size, d_model=D, num_heads=8, num_layers=5)\n",
        "\n",
        "mask = make_causal_mask(T)\n",
        "\n",
        "logits, probs = decoder(embedded, self_mask=mask)"
      ],
      "metadata": {
        "id": "vUyQeNknQfa-"
      },
      "execution_count": 53,
      "outputs": []
    },
    {
      "cell_type": "code",
      "source": [
        "print(\"Logits shape:\", logits.shape)  # (B, T, vocab_size)\n",
        "print(\"Next token prob shape:\", probs.shape)  # (B, vocab_size)"
      ],
      "metadata": {
        "colab": {
          "base_uri": "https://localhost:8080/"
        },
        "id": "hNskzFRPQ3w6",
        "outputId": "d93ff1fa-585e-4589-e100-e3d0ba0d5658"
      },
      "execution_count": 54,
      "outputs": [
        {
          "output_type": "stream",
          "name": "stdout",
          "text": [
            "Logits shape: (1, 4, 30659)\n",
            "Next token prob shape: (1, 30659)\n"
          ]
        }
      ]
    },
    {
      "cell_type": "code",
      "source": [
        "print(logits)\n",
        "print(probs)"
      ],
      "metadata": {
        "colab": {
          "base_uri": "https://localhost:8080/"
        },
        "id": "oR8mnqodROAP",
        "outputId": "1b96fc12-c362-47c1-d311-175ff7463cca"
      },
      "execution_count": 55,
      "outputs": [
        {
          "output_type": "stream",
          "name": "stdout",
          "text": [
            "[[[ 0.16508727  0.0175659   0.15031728 ...  0.02090813  0.04915541\n",
            "   -0.17508453]\n",
            "  [ 0.23154073  0.03160694  0.07573692 ... -0.02613881  0.04917516\n",
            "   -0.3080022 ]\n",
            "  [ 0.14832552  0.13016722  0.0733087  ... -0.08301666  0.02936145\n",
            "   -0.51078994]\n",
            "  [ 0.05352065  0.23057581  0.13742616 ... -0.15670264  0.00602828\n",
            "   -0.51852867]]]\n",
            "[[3.35789542e-05 4.00830947e-05 3.65179903e-05 ... 2.72124943e-05\n",
            "  3.20214869e-05 1.89508766e-05]]\n"
          ]
        }
      ]
    }
  ]
}